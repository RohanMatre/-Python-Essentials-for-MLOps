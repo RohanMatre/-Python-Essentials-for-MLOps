{
  "cells": [
    {
      "cell_type": "markdown",
      "metadata": {},
      "source": [
        "# Testing with Pytest\n",
        "As with any Python project, create a virtual environment:\n",
        "\n",
        "```\n",
        "$ python -m venv venv\n",
        "$ source venv/bin/activate\n",
        "```\n",
        "\n",
        "And then install Pytest:\n",
        "\n",
        "```\n",
        "$ pip install pytest\n",
        "```\n",
        "\n",
        "Add it to a `requirements.txt` file so you don't forget to install it next time"
      ]
    },
    {
      "cell_type": "markdown",
      "metadata": {},
      "source": []
    },
    {
      "cell_type": "code",
      "execution_count": 1,
      "metadata": {
        "colab": {
          "base_uri": "https://localhost:8080/"
        },
        "id": "BG1wvESCQ5mi",
        "outputId": "c9204060-3f49-4b16-a123-a01395789d9e"
      },
      "outputs": [
        {
          "name": "stdout",
          "output_type": "stream",
          "text": [
            "\u001b[1m============================= test session starts ==============================\u001b[0m\n",
            "platform darwin -- Python 3.10.12, pytest-7.1.2, pluggy-1.0.0 -- /Users/rohanmatre/anaconda3/bin/python\n",
            "cachedir: .pytest_cache\n",
            "rootdir: /Users/rohanmatre/Documents/MLOP's/Course1/Week3/LESSON1\n",
            "plugins: anyio-3.5.0\n",
            "collected 0 items                                                              \u001b[0m\n",
            "\n",
            "\u001b[33m============================ \u001b[33mno tests ran\u001b[0m\u001b[33m in 0.00s\u001b[0m\u001b[33m =============================\u001b[0m\n",
            "\u001b[31mERROR: file or directory not found: test_util.py\n",
            "\u001b[0m\n"
          ]
        }
      ],
      "source": [
        "!pytest -vvvv test_util.py"
      ]
    },
    {
      "cell_type": "code",
      "execution_count": 2,
      "metadata": {
        "colab": {
          "base_uri": "https://localhost:8080/"
        },
        "id": "nNeTAGeeIgTw",
        "outputId": "05e376e0-beb7-41c0-86f1-918f3b3f86c2"
      },
      "outputs": [
        {
          "name": "stdout",
          "output_type": "stream",
          "text": [
            "Cloning into 'barebones'...\n",
            "remote: Enumerating objects: 63, done.\u001b[K\n",
            "remote: Counting objects: 100% (63/63), done.\u001b[K\n",
            "remote: Compressing objects: 100% (42/42), done.\u001b[K\n",
            "remote: Total 63 (delta 20), reused 34 (delta 7), pack-reused 0\u001b[K\n",
            "Receiving objects: 100% (63/63), 10.62 KiB | 453.00 KiB/s, done.\n",
            "Resolving deltas: 100% (20/20), done.\n",
            "The operation couldn’t be completed. Unable to locate a Java Runtime that supports apt.\n",
            "Please visit http://www.java.com for information on installing Java.\n",
            "\n"
          ]
        }
      ],
      "source": [
        "!git clone https://github.com/alfredodeza/barebones\n",
        "!apt install tree"
      ]
    },
    {
      "cell_type": "code",
      "execution_count": 3,
      "metadata": {
        "colab": {
          "base_uri": "https://localhost:8080/"
        },
        "id": "elgKeUAGCFVU",
        "outputId": "18dc16ae-0efb-4957-ef7e-55d1e6cfdee0"
      },
      "outputs": [
        {
          "name": "stdout",
          "output_type": "stream",
          "text": [
            "zsh:1: command not found: tree\n"
          ]
        }
      ],
      "source": [
        "!tree barebones"
      ]
    },
    {
      "cell_type": "code",
      "execution_count": 4,
      "metadata": {
        "colab": {
          "base_uri": "https://localhost:8080/"
        },
        "id": "6_uzdOoZCMzf",
        "outputId": "190f9a7d-e935-432b-bfa6-dedbc905dac9"
      },
      "outputs": [
        {
          "name": "stdout",
          "output_type": "stream",
          "text": [
            "Requirement already satisfied: pytest in /Users/rohanmatre/anaconda3/lib/python3.10/site-packages (7.1.2)\n",
            "Requirement already satisfied: attrs>=19.2.0 in /Users/rohanmatre/anaconda3/lib/python3.10/site-packages (from pytest) (22.1.0)\n",
            "Requirement already satisfied: iniconfig in /Users/rohanmatre/anaconda3/lib/python3.10/site-packages (from pytest) (1.1.1)\n",
            "Requirement already satisfied: packaging in /Users/rohanmatre/anaconda3/lib/python3.10/site-packages (from pytest) (23.0)\n",
            "Requirement already satisfied: pluggy<2.0,>=0.12 in /Users/rohanmatre/anaconda3/lib/python3.10/site-packages (from pytest) (1.0.0)\n",
            "Requirement already satisfied: py>=1.8.2 in /Users/rohanmatre/anaconda3/lib/python3.10/site-packages (from pytest) (1.11.0)\n",
            "Requirement already satisfied: tomli>=1.0.0 in /Users/rohanmatre/anaconda3/lib/python3.10/site-packages (from pytest) (2.0.1)\n"
          ]
        }
      ],
      "source": [
        "!pip install pytest"
      ]
    },
    {
      "cell_type": "code",
      "execution_count": 5,
      "metadata": {
        "colab": {
          "base_uri": "https://localhost:8080/"
        },
        "id": "a_3KHipCIodd",
        "outputId": "3f4f1bfd-1ee3-4f47-97a9-d7f1f070ddc1"
      },
      "outputs": [
        {
          "name": "stdout",
          "output_type": "stream",
          "text": [
            "\u001b[1m============================= test session starts ==============================\u001b[0m\n",
            "platform darwin -- Python 3.10.12, pytest-7.1.2, pluggy-1.0.0\n",
            "rootdir: /Users/rohanmatre/Documents/MLOP's/Course1/Week3/LESSON1/barebones\n",
            "plugins: anyio-3.5.0\n",
            "collected 4 items                                                              \u001b[0m\n",
            "\n",
            "barebones/jformat/tests/test_main.py \u001b[32m.\u001b[0m\u001b[33m                                   [ 25%]\u001b[0m\n",
            "barebones/jformat/tests/test_verify_output.py \u001b[32m.\u001b[0m\u001b[32m.\u001b[0m\u001b[32m.\u001b[0m\u001b[33m                        [100%]\u001b[0m\n",
            "\n",
            "\u001b[33m=============================== warnings summary ===============================\u001b[0m\n",
            "barebones/jformat/main.py:4\n",
            "  /Users/rohanmatre/Documents/MLOP's/Course1/Week3/LESSON1/barebones/jformat/main.py:4: DeprecationWarning: pkg_resources is deprecated as an API. See https://setuptools.pypa.io/en/latest/pkg_resources.html\n",
            "    import pkg_resources\n",
            "\n",
            "../../../../../anaconda3/lib/python3.10/site-packages/pkg_resources/__init__.py:2871\n",
            "  /Users/rohanmatre/anaconda3/lib/python3.10/site-packages/pkg_resources/__init__.py:2871: DeprecationWarning: Deprecated call to `pkg_resources.declare_namespace('mpl_toolkits')`.\n",
            "  Implementing implicit namespace packages (as specified in PEP 420) is preferred to `pkg_resources.declare_namespace`. See https://setuptools.pypa.io/en/latest/references/keywords.html#keyword-namespace-packages\n",
            "    declare_namespace(pkg)\n",
            "\n",
            "../../../../../anaconda3/lib/python3.10/site-packages/pkg_resources/__init__.py:2871\n",
            "../../../../../anaconda3/lib/python3.10/site-packages/pkg_resources/__init__.py:2871\n",
            "  /Users/rohanmatre/anaconda3/lib/python3.10/site-packages/pkg_resources/__init__.py:2871: DeprecationWarning: Deprecated call to `pkg_resources.declare_namespace('ruamel')`.\n",
            "  Implementing implicit namespace packages (as specified in PEP 420) is preferred to `pkg_resources.declare_namespace`. See https://setuptools.pypa.io/en/latest/references/keywords.html#keyword-namespace-packages\n",
            "    declare_namespace(pkg)\n",
            "\n",
            "../../../../../anaconda3/lib/python3.10/site-packages/pkg_resources/__init__.py:2871\n",
            "../../../../../anaconda3/lib/python3.10/site-packages/pkg_resources/__init__.py:2871\n",
            "../../../../../anaconda3/lib/python3.10/site-packages/pkg_resources/__init__.py:2871\n",
            "../../../../../anaconda3/lib/python3.10/site-packages/pkg_resources/__init__.py:2871\n",
            "../../../../../anaconda3/lib/python3.10/site-packages/pkg_resources/__init__.py:2871\n",
            "../../../../../anaconda3/lib/python3.10/site-packages/pkg_resources/__init__.py:2871\n",
            "  /Users/rohanmatre/anaconda3/lib/python3.10/site-packages/pkg_resources/__init__.py:2871: DeprecationWarning: Deprecated call to `pkg_resources.declare_namespace('sphinxcontrib')`.\n",
            "  Implementing implicit namespace packages (as specified in PEP 420) is preferred to `pkg_resources.declare_namespace`. See https://setuptools.pypa.io/en/latest/references/keywords.html#keyword-namespace-packages\n",
            "    declare_namespace(pkg)\n",
            "\n",
            "../../../../../anaconda3/lib/python3.10/site-packages/pkg_resources/__init__.py:2871\n",
            "  /Users/rohanmatre/anaconda3/lib/python3.10/site-packages/pkg_resources/__init__.py:2871: DeprecationWarning: Deprecated call to `pkg_resources.declare_namespace('zope')`.\n",
            "  Implementing implicit namespace packages (as specified in PEP 420) is preferred to `pkg_resources.declare_namespace`. See https://setuptools.pypa.io/en/latest/references/keywords.html#keyword-namespace-packages\n",
            "    declare_namespace(pkg)\n",
            "\n",
            "-- Docs: https://docs.pytest.org/en/stable/how-to/capture-warnings.html\n",
            "\u001b[33m======================== \u001b[32m4 passed\u001b[0m, \u001b[33m\u001b[1m11 warnings\u001b[0m\u001b[33m in 0.15s\u001b[0m\u001b[33m ========================\u001b[0m\n"
          ]
        }
      ],
      "source": [
        "!pytest barebones"
      ]
    },
    {
      "cell_type": "code",
      "execution_count": 6,
      "metadata": {
        "colab": {
          "base_uri": "https://localhost:8080/"
        },
        "id": "3ZtMp20lVyHk",
        "outputId": "0c6ec4d7-f92b-4221-8e55-8a1f16390bc1"
      },
      "outputs": [
        {
          "name": "stdout",
          "output_type": "stream",
          "text": [
            "\u001b[1m============================= test session starts ==============================\u001b[0m\n",
            "platform darwin -- Python 3.10.12, pytest-7.1.2, pluggy-1.0.0\n",
            "rootdir: /Users/rohanmatre/Documents/MLOP's/Course1/Week3/LESSON1/barebones\n",
            "plugins: anyio-3.5.0\n",
            "collected 4 items                                                              \u001b[0m\n",
            "\n",
            "<Package tests>\n",
            "  <Module test_main.py>\n",
            "    <Function test_yes_is_true>\n",
            "  <Module test_verify_output.py>\n",
            "    <Class TestLongComparisons>\n",
            "      <Function test_compare_large_strings>\n",
            "      <Function test_basic>\n",
            "      <Function test_compare_large_lists_to_none>\n",
            "\n",
            "\u001b[33m=============================== warnings summary ===============================\u001b[0m\n",
            "barebones/jformat/main.py:4\n",
            "  /Users/rohanmatre/Documents/MLOP's/Course1/Week3/LESSON1/barebones/jformat/main.py:4: DeprecationWarning: pkg_resources is deprecated as an API. See https://setuptools.pypa.io/en/latest/pkg_resources.html\n",
            "    import pkg_resources\n",
            "\n",
            "../../../../../anaconda3/lib/python3.10/site-packages/pkg_resources/__init__.py:2871\n",
            "  /Users/rohanmatre/anaconda3/lib/python3.10/site-packages/pkg_resources/__init__.py:2871: DeprecationWarning: Deprecated call to `pkg_resources.declare_namespace('mpl_toolkits')`.\n",
            "  Implementing implicit namespace packages (as specified in PEP 420) is preferred to `pkg_resources.declare_namespace`. See https://setuptools.pypa.io/en/latest/references/keywords.html#keyword-namespace-packages\n",
            "    declare_namespace(pkg)\n",
            "\n",
            "../../../../../anaconda3/lib/python3.10/site-packages/pkg_resources/__init__.py:2871\n",
            "../../../../../anaconda3/lib/python3.10/site-packages/pkg_resources/__init__.py:2871\n",
            "  /Users/rohanmatre/anaconda3/lib/python3.10/site-packages/pkg_resources/__init__.py:2871: DeprecationWarning: Deprecated call to `pkg_resources.declare_namespace('ruamel')`.\n",
            "  Implementing implicit namespace packages (as specified in PEP 420) is preferred to `pkg_resources.declare_namespace`. See https://setuptools.pypa.io/en/latest/references/keywords.html#keyword-namespace-packages\n",
            "    declare_namespace(pkg)\n",
            "\n",
            "../../../../../anaconda3/lib/python3.10/site-packages/pkg_resources/__init__.py:2871\n",
            "../../../../../anaconda3/lib/python3.10/site-packages/pkg_resources/__init__.py:2871\n",
            "../../../../../anaconda3/lib/python3.10/site-packages/pkg_resources/__init__.py:2871\n",
            "../../../../../anaconda3/lib/python3.10/site-packages/pkg_resources/__init__.py:2871\n",
            "../../../../../anaconda3/lib/python3.10/site-packages/pkg_resources/__init__.py:2871\n",
            "../../../../../anaconda3/lib/python3.10/site-packages/pkg_resources/__init__.py:2871\n",
            "  /Users/rohanmatre/anaconda3/lib/python3.10/site-packages/pkg_resources/__init__.py:2871: DeprecationWarning: Deprecated call to `pkg_resources.declare_namespace('sphinxcontrib')`.\n",
            "  Implementing implicit namespace packages (as specified in PEP 420) is preferred to `pkg_resources.declare_namespace`. See https://setuptools.pypa.io/en/latest/references/keywords.html#keyword-namespace-packages\n",
            "    declare_namespace(pkg)\n",
            "\n",
            "../../../../../anaconda3/lib/python3.10/site-packages/pkg_resources/__init__.py:2871\n",
            "  /Users/rohanmatre/anaconda3/lib/python3.10/site-packages/pkg_resources/__init__.py:2871: DeprecationWarning: Deprecated call to `pkg_resources.declare_namespace('zope')`.\n",
            "  Implementing implicit namespace packages (as specified in PEP 420) is preferred to `pkg_resources.declare_namespace`. See https://setuptools.pypa.io/en/latest/references/keywords.html#keyword-namespace-packages\n",
            "    declare_namespace(pkg)\n",
            "\n",
            "-- Docs: https://docs.pytest.org/en/stable/how-to/capture-warnings.html\n",
            "\u001b[32m========================== \u001b[32m4 tests collected\u001b[0m\u001b[32m in 0.11s\u001b[0m\u001b[32m ==========================\u001b[0m\n"
          ]
        }
      ],
      "source": [
        "!pytest --collect-only barebones"
      ]
    },
    {
      "cell_type": "markdown",
      "metadata": {
        "id": "362hTtzlPzpm"
      },
      "source": [
        "Inspect the files around the [barebones project](https://github.com/alfredodeza/barebones). It is a simple project that sorts and prettifies JSON to `stdout` or in a file."
      ]
    }
  ],
  "metadata": {
    "colab": {
      "collapsed_sections": [],
      "name": "Introduction to Pytest.ipynb",
      "provenance": []
    },
    "kernelspec": {
      "display_name": "Python 3.11.3 64-bit",
      "language": "python",
      "name": "python3"
    },
    "language_info": {
      "codemirror_mode": {
        "name": "ipython",
        "version": 3
      },
      "file_extension": ".py",
      "mimetype": "text/x-python",
      "name": "python",
      "nbconvert_exporter": "python",
      "pygments_lexer": "ipython3",
      "version": "3.11.3"
    },
    "vscode": {
      "interpreter": {
        "hash": "aee8b7b246df8f9039afb4144a1f6fd8d2ca17a180786b69acc140d282b71a49"
      }
    }
  },
  "nbformat": 4,
  "nbformat_minor": 0
}
