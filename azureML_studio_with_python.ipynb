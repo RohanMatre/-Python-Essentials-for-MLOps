{
 "cells": [
  {
   "attachments": {},
   "cell_type": "markdown",
   "metadata": {},
   "source": [
    "\n",
    "#### Try Azure ML Studio with a Service Principal\n",
    "\n",
    "This interactive Jupyter Notebook will allow you to setup infrastructure on Azure ML and authenticate using a Service Principal.\n",
    "\n",
    "Make sure you have enabled the following GitHub repository secrets:\n",
    "\n",
    "SUBSCRIPTION_ID\n",
    "AZURE_SERVICE_PRINCIPAL_TENANT\n",
    "AZURE_SERVICE_PRINCIPAL_APPID\n",
    "AZURE_SERVICE_PRINCIPAL_PASSWORD\n",
    "\n",
    "Optionally, you can add the following items to use a specific resource group, region, or existing workspace:\n",
    "\n",
    "WORKSPACE_REGION\n",
    "RESOURCE_GROUP\n",
    "WORKSPACE_NAME\n",
    "\n",
    "These are retrieved and set from the next cell\n"
   ]
  },
  {
   "cell_type": "code",
   "execution_count": 1,
   "metadata": {},
   "outputs": [
    {
     "ename": "KeyError",
     "evalue": "'SUBSCRIPTION_ID'",
     "output_type": "error",
     "traceback": [
      "\u001b[0;31m---------------------------------------------------------------------------\u001b[0m",
      "\u001b[0;31mKeyError\u001b[0m                                  Traceback (most recent call last)",
      "Cell \u001b[0;32mIn[1], line 4\u001b[0m\n\u001b[1;32m      1\u001b[0m \u001b[39mimport\u001b[39;00m \u001b[39mos\u001b[39;00m\n\u001b[1;32m      3\u001b[0m \u001b[39m# required\u001b[39;00m\n\u001b[0;32m----> 4\u001b[0m subscription_id \u001b[39m=\u001b[39m os\u001b[39m.\u001b[39;49menviron[\u001b[39m\"\u001b[39;49m\u001b[39mSUBSCRIPTION_ID\u001b[39;49m\u001b[39m\"\u001b[39;49m]\n\u001b[1;32m      5\u001b[0m tenant_id \u001b[39m=\u001b[39m os\u001b[39m.\u001b[39menviron[\u001b[39m\"\u001b[39m\u001b[39mTENANT_ID\u001b[39m\u001b[39m\"\u001b[39m]\n\u001b[1;32m      6\u001b[0m service_principal_id \u001b[39m=\u001b[39m os\u001b[39m.\u001b[39menviron[\u001b[39m\"\u001b[39m\u001b[39mAZURE_SERVICE_PRINCIPAL_APPID\u001b[39m\u001b[39m\"\u001b[39m]\n",
      "File \u001b[0;32m<frozen os>:679\u001b[0m, in \u001b[0;36m__getitem__\u001b[0;34m(self, key)\u001b[0m\n",
      "\u001b[0;31mKeyError\u001b[0m: 'SUBSCRIPTION_ID'"
     ]
    }
   ],
   "source": [
    "\n",
    "import os\n",
    "\n",
    "# required\n",
    "subscription_id = os.environ[\"SUBSCRIPTION_ID\"]\n",
    "tenant_id = os.environ[\"TENANT_ID\"]\n",
    "service_principal_id = os.environ[\"AZURE_SERVICE_PRINCIPAL_APPID\"]\n",
    "service_principal_password = os.environ[\"AZURE_SERVICE_PRINCIPAL_PASSWORD\"]\n",
    "\n",
    "# optional\n",
    "resource_group = os.getenv(\"RESOURCE_GROUP\", default=\"demo-try-azureml\")\n",
    "workspace_name = os.getenv(\"WORKSPACE_NAME\", default=\"demo-try-azureml\")\n",
    "workspace_region = os.getenv(\"WORKSPACE_REGION\", default=\"eastus2\")\n",
    "\n",
    "     \n"
   ]
  },
  {
   "attachments": {},
   "cell_type": "markdown",
   "metadata": {},
   "source": [
    "\n",
    "#### Define the Service Principal\n",
    "\n",
    "Use the environment variables to instantiate the Service Principal account so that it can be used to authenticate to Azure later\n"
   ]
  },
  {
   "cell_type": "code",
   "execution_count": 2,
   "metadata": {},
   "outputs": [
    {
     "ename": "ModuleNotFoundError",
     "evalue": "No module named 'azureml'",
     "output_type": "error",
     "traceback": [
      "\u001b[0;31m---------------------------------------------------------------------------\u001b[0m",
      "\u001b[0;31mModuleNotFoundError\u001b[0m                       Traceback (most recent call last)",
      "Cell \u001b[0;32mIn[2], line 1\u001b[0m\n\u001b[0;32m----> 1\u001b[0m \u001b[39mfrom\u001b[39;00m \u001b[39mazureml\u001b[39;00m\u001b[39m.\u001b[39;00m\u001b[39mcore\u001b[39;00m \u001b[39mimport\u001b[39;00m Workspace\n\u001b[1;32m      2\u001b[0m \u001b[39mfrom\u001b[39;00m \u001b[39mazureml\u001b[39;00m\u001b[39m.\u001b[39;00m\u001b[39mcore\u001b[39;00m\u001b[39m.\u001b[39;00m\u001b[39mauthentication\u001b[39;00m \u001b[39mimport\u001b[39;00m ServicePrincipalAuthentication\n\u001b[1;32m      4\u001b[0m service_principal \u001b[39m=\u001b[39m ServicePrincipalAuthentication(\n\u001b[1;32m      5\u001b[0m     tenant_id\u001b[39m=\u001b[39mtenant_id,\n\u001b[1;32m      6\u001b[0m     service_principal_id\u001b[39m=\u001b[39mservice_principal_id,\n\u001b[1;32m      7\u001b[0m     service_principal_password\u001b[39m=\u001b[39mservice_principal_password\n\u001b[1;32m      8\u001b[0m )\n",
      "\u001b[0;31mModuleNotFoundError\u001b[0m: No module named 'azureml'"
     ]
    }
   ],
   "source": [
    "from azureml.core import Workspace\n",
    "from azureml.core.authentication import ServicePrincipalAuthentication\n",
    "\n",
    "service_principal = ServicePrincipalAuthentication(\n",
    "    tenant_id=tenant_id,\n",
    "    service_principal_id=service_principal_id,\n",
    "    service_principal_password=service_principal_password\n",
    ")"
   ]
  },
  {
   "attachments": {},
   "cell_type": "markdown",
   "metadata": {},
   "source": [
    "#### Create the workspace\n",
    "Use the previously created configuration file to create the Azure ML workspace"
   ]
  },
  {
   "cell_type": "code",
   "execution_count": 3,
   "metadata": {},
   "outputs": [
    {
     "ename": "ModuleNotFoundError",
     "evalue": "No module named 'azureml'",
     "output_type": "error",
     "traceback": [
      "\u001b[0;31m---------------------------------------------------------------------------\u001b[0m",
      "\u001b[0;31mModuleNotFoundError\u001b[0m                       Traceback (most recent call last)",
      "Cell \u001b[0;32mIn[3], line 1\u001b[0m\n\u001b[0;32m----> 1\u001b[0m \u001b[39mfrom\u001b[39;00m \u001b[39mazureml\u001b[39;00m\u001b[39m.\u001b[39;00m\u001b[39mcore\u001b[39;00m \u001b[39mimport\u001b[39;00m Workspace\n\u001b[1;32m      3\u001b[0m \u001b[39mtry\u001b[39;00m:\n\u001b[1;32m      4\u001b[0m     ws \u001b[39m=\u001b[39m Workspace(subscription_id \u001b[39m=\u001b[39m subscription_id, resource_group \u001b[39m=\u001b[39m resource_group, workspace_name \u001b[39m=\u001b[39m workspace_name)\n",
      "\u001b[0;31mModuleNotFoundError\u001b[0m: No module named 'azureml'"
     ]
    }
   ],
   "source": [
    "from azureml.core import Workspace\n",
    "\n",
    "try:\n",
    "    ws = Workspace(subscription_id = subscription_id, resource_group = resource_group, workspace_name = workspace_name)\n",
    "    # write the details of the workspace to a configuration file to the notebook library\n",
    "    ws.write_config()\n",
    "    print(\"Workspace configuration succeeded.\")\n",
    "except Exception:\n",
    "    print(\"Workspace not accessible. Ensure that Codespaces secrets are available, see first cell\")\n",
    "    raise"
   ]
  },
  {
   "cell_type": "code",
   "execution_count": null,
   "metadata": {},
   "outputs": [],
   "source": [
    "\n",
    "\n",
    "# Create the workspace using the specified parameters\n",
    "ws = Workspace.create(name = workspace_name,\n",
    "                      subscription_id = subscription_id,\n",
    "                      resource_group = resource_group, \n",
    "                      location = workspace_region,\n",
    "                      create_resource_group = True,\n",
    "                      exist_ok = True)\n",
    "ws.get_details()\n",
    "\n",
    "# write the details of the workspace to a configuration file to the notebook library\n",
    "ws.write_config()\n",
    "     \n"
   ]
  },
  {
   "cell_type": "code",
   "execution_count": null,
   "metadata": {},
   "outputs": [],
   "source": [
    "\n",
    "\n",
    "from azureml.core.compute import ComputeTarget, AmlCompute\n",
    "\n",
    "# define aml compute target(s) to create\n",
    "amlcomputes = {\n",
    "    \"cpu-cluster\": {\n",
    "        \"vm_size\": \"STANDARD_DS3_V2\",\n",
    "        \"min_nodes\": 0,\n",
    "        \"max_nodes\": 3,\n",
    "        \"idle_seconds_before_scaledown\": 240,\n",
    "    }\n",
    "}\n",
    "\n",
    "# create aml compute targets\n",
    "for ct_name in amlcomputes:\n",
    "    if ct_name not in ws.compute_targets:\n",
    "        compute_config = AmlCompute.provisioning_configuration(**amlcomputes[ct_name])\n",
    "        ct = ComputeTarget.create(ws, ct_name, compute_config)\n",
    "        ct.wait_for_completion(show_output=True)\n",
    "     \n"
   ]
  },
  {
   "attachments": {},
   "cell_type": "markdown",
   "metadata": {},
   "source": [
    "\n",
    "#### Perform exploratory work\n",
    "\n",
    "You can now interact with the Azure ML Workspace, like train models, register datasets and models, or create an AutoML run\n"
   ]
  },
  {
   "cell_type": "code",
   "execution_count": 1,
   "metadata": {},
   "outputs": [],
   "source": [
    "# exploratory work\n"
   ]
  },
  {
   "attachments": {},
   "cell_type": "markdown",
   "metadata": {},
   "source": [
    "\n",
    "#### Destroy workspace and resources\n",
    "\n",
    "The next cell will destroy all assets from the Azure ML workspace\n"
   ]
  },
  {
   "cell_type": "code",
   "execution_count": null,
   "metadata": {},
   "outputs": [],
   "source": [
    "ws.delete(delete_dependent_resources=True, no_wait=False)"
   ]
  }
 ],
 "metadata": {
  "kernelspec": {
   "display_name": "Python 3.11.3 64-bit",
   "language": "python",
   "name": "python3"
  },
  "language_info": {
   "codemirror_mode": {
    "name": "ipython",
    "version": 3
   },
   "file_extension": ".py",
   "mimetype": "text/x-python",
   "name": "python",
   "nbconvert_exporter": "python",
   "pygments_lexer": "ipython3",
   "version": "3.11.3"
  },
  "orig_nbformat": 4,
  "vscode": {
   "interpreter": {
    "hash": "aee8b7b246df8f9039afb4144a1f6fd8d2ca17a180786b69acc140d282b71a49"
   }
  }
 },
 "nbformat": 4,
 "nbformat_minor": 2
}
